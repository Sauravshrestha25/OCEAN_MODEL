{
 "cells": [
  {
   "cell_type": "code",
   "execution_count": 1,
   "id": "ddfd5e82-4f72-4f6b-aeb0-60aa085086ce",
   "metadata": {
    "scrolled": true
   },
   "outputs": [
    {
     "name": "stdout",
     "output_type": "stream",
     "text": [
      "Model loaded successfully!\n"
     ]
    }
   ],
   "source": [
    "import joblib\n",
    "\n",
    "# Load the model with memory-mapping\n",
    "model = joblib.load('OCEAN_PREDICTION_MODEL_lite.pkl')\n",
    "print(\"Model loaded successfully!\")"
   ]
  },
  {
   "cell_type": "code",
   "execution_count": 2,
   "id": "088f4e13-baee-4582-b98d-5ae6ec9a095c",
   "metadata": {},
   "outputs": [
    {
     "name": "stdout",
     "output_type": "stream",
     "text": [
      "Model feature names: ['EXT1' 'EXT2' 'EXT3' 'EXT4' 'EXT5' 'EXT6' 'EXT7' 'EXT8' 'EXT9' 'EXT10'\n",
      " 'EST1' 'EST2' 'EST3' 'EST4' 'EST5' 'EST6' 'EST7' 'EST8' 'EST9' 'EST10'\n",
      " 'AGR1' 'AGR2' 'AGR3' 'AGR4' 'AGR5' 'AGR6' 'AGR7' 'AGR8' 'AGR9' 'AGR10'\n",
      " 'CSN1' 'CSN2' 'CSN3' 'CSN4' 'CSN5' 'CSN6' 'CSN7' 'CSN8' 'CSN9' 'CSN10'\n",
      " 'OPN1' 'OPN2' 'OPN3' 'OPN4' 'OPN5' 'OPN6' 'OPN7' 'OPN8' 'OPN9' 'OPN10']\n"
     ]
    }
   ],
   "source": [
    "# Load the model\n",
    "\n",
    "# If the model is based on a pipeline (e.g., using scikit-learn), you can inspect the model's features\n",
    "if hasattr(model, 'feature_names_in_'):\n",
    "    print(\"Model feature names:\", model.feature_names_in_)\n",
    "else:\n",
    "    print(\"Model does not have 'feature_names_in_' attribute.\")\n"
   ]
  },
  {
   "cell_type": "code",
   "execution_count": 3,
   "id": "36586c9f-4dd7-4302-9fff-b9dae26ac3fa",
   "metadata": {},
   "outputs": [
    {
     "name": "stdout",
     "output_type": "stream",
     "text": [
      "Predicted Personality Traits (OCEAN):\n",
      "Extraversion: 1.860999999999999\n",
      "Neuroticism: 4.934999999999995\n",
      "Agreeableness: 3.6242113095238095\n",
      "Conscientiousness: 3.5335553284950367\n",
      "Openness: 1.6570000000000014\n"
     ]
    }
   ],
   "source": [
    "import joblib\n",
    "import pandas as pd\n",
    "\n",
    "# Define columns for personality traits\n",
    "columns = [\n",
    "    'EXT1', 'EXT2', 'EXT3', 'EXT4', 'EXT5', 'EXT6', 'EXT7', 'EXT8', 'EXT9', 'EXT10',  # Extraversion features\n",
    "    'EST1', 'EST2', 'EST3', 'EST4', 'EST5', 'EST6', 'EST7', 'EST8', 'EST9', 'EST10',  # Emotional Stability features\n",
    "    'AGR1', 'AGR2', 'AGR3', 'AGR4', 'AGR5', 'AGR6', 'AGR7', 'AGR8', 'AGR9', 'AGR10',  # Agreeableness features\n",
    "    'CSN1', 'CSN2', 'CSN3', 'CSN4', 'CSN5', 'CSN6', 'CSN7', 'CSN8', 'CSN9', 'CSN10',  # Conscientiousness features\n",
    "    'OPN1', 'OPN2', 'OPN3', 'OPN4', 'OPN5', 'OPN6', 'OPN7', 'OPN8', 'OPN9', 'OPN10'   # Openness features\n",
    "]\n",
    "\n",
    "\n",
    "# Example input with the correct feature names in uppercase\n",
    "sample_input = {\n",
    "    'EXT1': 1, 'EXT2': 1, 'EXT3': 1, 'EXT4': 1, 'EXT5': 1, 'EXT6': 1, 'EXT7': 1, 'EXT8': 1, 'EXT9': 1, 'EXT10': 1,\n",
    "    'EST1': 5, 'EST2': 5, 'EST3': 5, 'EST4': 5, 'EST5': 5, 'EST6': 5, 'EST7': 5, 'EST8': 5, 'EST9': 5, 'EST10': 5,\n",
    "    'AGR1': 4, 'AGR2': 3, 'AGR3': 4, 'AGR4': 5, 'AGR5': 3, 'AGR6': 4, 'AGR7': 3, 'AGR8': 4, 'AGR9': 3, 'AGR10': 4,\n",
    "    'CSN1': 4, 'CSN2': 3, 'CSN3': 4, 'CSN4': 5, 'CSN5': 3, 'CSN6': 4, 'CSN7': 3, 'CSN8': 4, 'CSN9': 3, 'CSN10': 4,\n",
    "    'OPN1': 1, 'OPN2': 1, 'OPN3': 1, 'OPN4': 1, 'OPN5': 1, 'OPN6': 1, 'OPN7': 1, 'OPN8': 1, 'OPN9': 1, 'OPN10': 1\n",
    "}\n",
    "\n",
    "# Create DataFrame with the correct column names\n",
    "sample_input_df = pd.DataFrame([sample_input], columns=columns)\n",
    "\n",
    "# Predict personality traits\n",
    "predicted_traits = model.predict(sample_input_df)\n",
    "\n",
    "# Map the predictions to the OCEAN categories\n",
    "trait_names = ['Extraversion', 'Neuroticism', 'Agreeableness', 'Conscientiousness', 'Openness']\n",
    "traits_dict = dict(zip(trait_names, predicted_traits[0]))\n",
    "\n",
    "# Display the predicted results with corresponding types\n",
    "print(\"Predicted Personality Traits (OCEAN):\")\n",
    "for trait, score in traits_dict.items():\n",
    "    print(f\"{trait}: {score}\")\n"
   ]
  },
  {
   "cell_type": "code",
   "execution_count": null,
   "id": "48f75f7b-46fb-4f12-9f7c-98712d22bd5a",
   "metadata": {},
   "outputs": [],
   "source": []
  }
 ],
 "metadata": {
  "kernelspec": {
   "display_name": "Python 3",
   "language": "python",
   "name": "python3"
  },
  "language_info": {
   "codemirror_mode": {
    "name": "ipython",
    "version": 3
   },
   "file_extension": ".py",
   "mimetype": "text/x-python",
   "name": "python",
   "nbconvert_exporter": "python",
   "pygments_lexer": "ipython3",
   "version": "3.12.8"
  }
 },
 "nbformat": 4,
 "nbformat_minor": 5
}
